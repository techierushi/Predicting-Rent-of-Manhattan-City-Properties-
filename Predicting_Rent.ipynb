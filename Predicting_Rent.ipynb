{
 "cells": [
  {
   "cell_type": "code",
   "execution_count": 1,
   "metadata": {
    "id": "5-nWjjjy9XDM"
   },
   "outputs": [],
   "source": [
    "import pandas as pd\n",
    "import numpy as np\n",
    "import matplotlib.pyplot as plt\n",
    "%matplotlib inline\n",
    "import seaborn as sns\n",
    "import warnings\n",
    "warnings.filterwarnings('ignore')"
   ]
  },
  {
   "cell_type": "code",
   "execution_count": 2,
   "metadata": {
    "id": "t91mJ_xM9sct"
   },
   "outputs": [],
   "source": [
    "rent_df = pd.read_csv(\"https://raw.githubusercontent.com/Codecademy/datasets/master/streeteasy/manhattan.csv\")"
   ]
  },
  {
   "cell_type": "code",
   "execution_count": 3,
   "metadata": {
    "colab": {
     "base_uri": "https://localhost:8080/",
     "height": 275
    },
    "id": "PG_blcqp9z8Z",
    "outputId": "6f91bc13-244e-4dc1-8a73-2e13692a728e"
   },
   "outputs": [
    {
     "data": {
      "text/html": [
       "<div>\n",
       "<style scoped>\n",
       "    .dataframe tbody tr th:only-of-type {\n",
       "        vertical-align: middle;\n",
       "    }\n",
       "\n",
       "    .dataframe tbody tr th {\n",
       "        vertical-align: top;\n",
       "    }\n",
       "\n",
       "    .dataframe thead th {\n",
       "        text-align: right;\n",
       "    }\n",
       "</style>\n",
       "<table border=\"1\" class=\"dataframe\">\n",
       "  <thead>\n",
       "    <tr style=\"text-align: right;\">\n",
       "      <th></th>\n",
       "      <th>rental_id</th>\n",
       "      <th>rent</th>\n",
       "      <th>bedrooms</th>\n",
       "      <th>bathrooms</th>\n",
       "      <th>size_sqft</th>\n",
       "      <th>min_to_subway</th>\n",
       "      <th>floor</th>\n",
       "      <th>building_age_yrs</th>\n",
       "      <th>no_fee</th>\n",
       "      <th>has_roofdeck</th>\n",
       "      <th>has_washer_dryer</th>\n",
       "      <th>has_doorman</th>\n",
       "      <th>has_elevator</th>\n",
       "      <th>has_dishwasher</th>\n",
       "      <th>has_patio</th>\n",
       "      <th>has_gym</th>\n",
       "      <th>neighborhood</th>\n",
       "      <th>borough</th>\n",
       "    </tr>\n",
       "  </thead>\n",
       "  <tbody>\n",
       "    <tr>\n",
       "      <th>0</th>\n",
       "      <td>1545</td>\n",
       "      <td>2550</td>\n",
       "      <td>0.0</td>\n",
       "      <td>1</td>\n",
       "      <td>480</td>\n",
       "      <td>9</td>\n",
       "      <td>2.0</td>\n",
       "      <td>17</td>\n",
       "      <td>1</td>\n",
       "      <td>1</td>\n",
       "      <td>0</td>\n",
       "      <td>0</td>\n",
       "      <td>1</td>\n",
       "      <td>1</td>\n",
       "      <td>0</td>\n",
       "      <td>1</td>\n",
       "      <td>Upper East Side</td>\n",
       "      <td>Manhattan</td>\n",
       "    </tr>\n",
       "    <tr>\n",
       "      <th>1</th>\n",
       "      <td>2472</td>\n",
       "      <td>11500</td>\n",
       "      <td>2.0</td>\n",
       "      <td>2</td>\n",
       "      <td>2000</td>\n",
       "      <td>4</td>\n",
       "      <td>1.0</td>\n",
       "      <td>96</td>\n",
       "      <td>0</td>\n",
       "      <td>0</td>\n",
       "      <td>0</td>\n",
       "      <td>0</td>\n",
       "      <td>0</td>\n",
       "      <td>0</td>\n",
       "      <td>0</td>\n",
       "      <td>0</td>\n",
       "      <td>Greenwich Village</td>\n",
       "      <td>Manhattan</td>\n",
       "    </tr>\n",
       "    <tr>\n",
       "      <th>2</th>\n",
       "      <td>2919</td>\n",
       "      <td>4500</td>\n",
       "      <td>1.0</td>\n",
       "      <td>1</td>\n",
       "      <td>916</td>\n",
       "      <td>2</td>\n",
       "      <td>51.0</td>\n",
       "      <td>29</td>\n",
       "      <td>0</td>\n",
       "      <td>1</td>\n",
       "      <td>0</td>\n",
       "      <td>1</td>\n",
       "      <td>1</td>\n",
       "      <td>1</td>\n",
       "      <td>0</td>\n",
       "      <td>0</td>\n",
       "      <td>Midtown</td>\n",
       "      <td>Manhattan</td>\n",
       "    </tr>\n",
       "    <tr>\n",
       "      <th>3</th>\n",
       "      <td>2790</td>\n",
       "      <td>4795</td>\n",
       "      <td>1.0</td>\n",
       "      <td>1</td>\n",
       "      <td>975</td>\n",
       "      <td>3</td>\n",
       "      <td>8.0</td>\n",
       "      <td>31</td>\n",
       "      <td>0</td>\n",
       "      <td>0</td>\n",
       "      <td>0</td>\n",
       "      <td>1</td>\n",
       "      <td>1</td>\n",
       "      <td>1</td>\n",
       "      <td>0</td>\n",
       "      <td>1</td>\n",
       "      <td>Greenwich Village</td>\n",
       "      <td>Manhattan</td>\n",
       "    </tr>\n",
       "    <tr>\n",
       "      <th>4</th>\n",
       "      <td>3946</td>\n",
       "      <td>17500</td>\n",
       "      <td>2.0</td>\n",
       "      <td>2</td>\n",
       "      <td>4800</td>\n",
       "      <td>3</td>\n",
       "      <td>4.0</td>\n",
       "      <td>136</td>\n",
       "      <td>0</td>\n",
       "      <td>0</td>\n",
       "      <td>0</td>\n",
       "      <td>1</td>\n",
       "      <td>1</td>\n",
       "      <td>1</td>\n",
       "      <td>0</td>\n",
       "      <td>1</td>\n",
       "      <td>Soho</td>\n",
       "      <td>Manhattan</td>\n",
       "    </tr>\n",
       "  </tbody>\n",
       "</table>\n",
       "</div>"
      ],
      "text/plain": [
       "   rental_id   rent  bedrooms  ...  has_gym       neighborhood    borough\n",
       "0       1545   2550       0.0  ...        1    Upper East Side  Manhattan\n",
       "1       2472  11500       2.0  ...        0  Greenwich Village  Manhattan\n",
       "2       2919   4500       1.0  ...        0            Midtown  Manhattan\n",
       "3       2790   4795       1.0  ...        1  Greenwich Village  Manhattan\n",
       "4       3946  17500       2.0  ...        1               Soho  Manhattan\n",
       "\n",
       "[5 rows x 18 columns]"
      ]
     },
     "execution_count": 3,
     "metadata": {
      "tags": []
     },
     "output_type": "execute_result"
    }
   ],
   "source": [
    "rent_df.head()"
   ]
  },
  {
   "cell_type": "code",
   "execution_count": 4,
   "metadata": {
    "colab": {
     "base_uri": "https://localhost:8080/"
    },
    "id": "XpYc-JZ-92bC",
    "outputId": "c8a9a00e-285a-473f-cba6-957ef8b49937"
   },
   "outputs": [
    {
     "name": "stdout",
     "output_type": "stream",
     "text": [
      "<class 'pandas.core.frame.DataFrame'>\n",
      "RangeIndex: 3539 entries, 0 to 3538\n",
      "Data columns (total 18 columns):\n",
      " #   Column            Non-Null Count  Dtype  \n",
      "---  ------            --------------  -----  \n",
      " 0   rental_id         3539 non-null   int64  \n",
      " 1   rent              3539 non-null   int64  \n",
      " 2   bedrooms          3539 non-null   float64\n",
      " 3   bathrooms         3539 non-null   int64  \n",
      " 4   size_sqft         3539 non-null   int64  \n",
      " 5   min_to_subway     3539 non-null   int64  \n",
      " 6   floor             3539 non-null   float64\n",
      " 7   building_age_yrs  3539 non-null   int64  \n",
      " 8   no_fee            3539 non-null   int64  \n",
      " 9   has_roofdeck      3539 non-null   int64  \n",
      " 10  has_washer_dryer  3539 non-null   int64  \n",
      " 11  has_doorman       3539 non-null   int64  \n",
      " 12  has_elevator      3539 non-null   int64  \n",
      " 13  has_dishwasher    3539 non-null   int64  \n",
      " 14  has_patio         3539 non-null   int64  \n",
      " 15  has_gym           3539 non-null   int64  \n",
      " 16  neighborhood      3539 non-null   object \n",
      " 17  borough           3539 non-null   object \n",
      "dtypes: float64(2), int64(14), object(2)\n",
      "memory usage: 497.8+ KB\n"
     ]
    }
   ],
   "source": [
    "rent_df.info()"
   ]
  },
  {
   "cell_type": "code",
   "execution_count": 5,
   "metadata": {
    "colab": {
     "base_uri": "https://localhost:8080/"
    },
    "id": "ucsqmJ0j95uP",
    "outputId": "cc9a0d1e-4ba2-4983-915f-4451a156d0f9"
   },
   "outputs": [
    {
     "data": {
      "text/plain": [
       "Upper West Side        579\n",
       "Upper East Side        500\n",
       "Midtown East           460\n",
       "Midtown West           314\n",
       "Financial District     268\n",
       "Chelsea                182\n",
       "Flatiron               132\n",
       "Tribeca                119\n",
       "Midtown                119\n",
       "East Village           108\n",
       "Battery Park City      104\n",
       "Midtown South           85\n",
       "Central Harlem          82\n",
       "West Village            67\n",
       "Greenwich Village       66\n",
       "Gramercy Park           61\n",
       "Soho                    58\n",
       "Washington Heights      54\n",
       "East Harlem             41\n",
       "Lower East Side         41\n",
       "Central Park South      23\n",
       "Hamilton Heights        16\n",
       "Morningside Heights     13\n",
       "Inwood                  12\n",
       "Nolita                   9\n",
       "Chinatown                8\n",
       "Roosevelt Island         5\n",
       "Long Island City         4\n",
       "Stuyvesant Town/PCV      3\n",
       "Little Italy             3\n",
       "West Harlem              2\n",
       "Manhattanville           1\n",
       "Name: neighborhood, dtype: int64"
      ]
     },
     "execution_count": 5,
     "metadata": {
      "tags": []
     },
     "output_type": "execute_result"
    }
   ],
   "source": [
    "rent_df['neighborhood'].value_counts()"
   ]
  },
  {
   "cell_type": "code",
   "execution_count": 6,
   "metadata": {
    "colab": {
     "base_uri": "https://localhost:8080/"
    },
    "id": "Ad3qLD1LA-FR",
    "outputId": "0daa471a-3fd3-4833-8ea1-833aee916f4a"
   },
   "outputs": [
    {
     "data": {
      "text/plain": [
       "rental_id           0\n",
       "rent                0\n",
       "bedrooms            0\n",
       "bathrooms           0\n",
       "size_sqft           0\n",
       "min_to_subway       0\n",
       "floor               0\n",
       "building_age_yrs    0\n",
       "no_fee              0\n",
       "has_roofdeck        0\n",
       "has_washer_dryer    0\n",
       "has_doorman         0\n",
       "has_elevator        0\n",
       "has_dishwasher      0\n",
       "has_patio           0\n",
       "has_gym             0\n",
       "neighborhood        0\n",
       "borough             0\n",
       "dtype: int64"
      ]
     },
     "execution_count": 6,
     "metadata": {
      "tags": []
     },
     "output_type": "execute_result"
    }
   ],
   "source": [
    "rent_df.isnull().sum()"
   ]
  },
  {
   "cell_type": "code",
   "execution_count": 3,
   "metadata": {
    "id": "zBtvGFKmCN0K"
   },
   "outputs": [],
   "source": [
    "rent_df.drop(['rental_id', 'borough'], axis=1, inplace=True)"
   ]
  },
  {
   "cell_type": "code",
   "execution_count": 8,
   "metadata": {
    "colab": {
     "base_uri": "https://localhost:8080/",
     "height": 459
    },
    "id": "wuvFoulFCa9o",
    "outputId": "da24d1c7-19c1-4b02-919f-914e5429e5cc"
   },
   "outputs": [
    {
     "data": {
      "text/plain": [
       "<matplotlib.axes._subplots.AxesSubplot at 0x7f6d0e1341d0>"
      ]
     },
     "execution_count": 8,
     "metadata": {
      "tags": []
     },
     "output_type": "execute_result"
    },
    {
     "data": {
      "image/png": "[encoded data removed]",
      "text/plain": [
       "<Figure size 720x504 with 1 Axes>"
      ]
     },
     "metadata": {
      "needs_background": "light",
      "tags": []
     },
     "output_type": "display_data"
    }
   ],
   "source": [
    "plt.figure(figsize=(10,7))\n",
    "sns.distplot(rent_df['rent'])"
   ]
  },
  {
   "cell_type": "code",
   "execution_count": 13,
   "metadata": {
    "colab": {
     "base_uri": "https://localhost:8080/",
     "height": 463
    },
    "id": "W9rDXLgoF1l3",
    "outputId": "71f63d81-7ca3-47a3-84a2-b020b4e658a5"
   },
   "outputs": [
    {
     "data": {
      "text/plain": [
       "<matplotlib.axes._subplots.AxesSubplot at 0x7f6d0607d210>"
      ]
     },
     "execution_count": 13,
     "metadata": {
      "tags": []
     },
     "output_type": "execute_result"
    },
    {
     "data": {
      "image/png": "[encoded data removed]",
      "text/plain": [
       "<Figure size 720x504 with 1 Axes>"
      ]
     },
     "metadata": {
      "needs_background": "light",
      "tags": []
     },
     "output_type": "display_data"
    }
   ],
   "source": [
    "plt.figure(figsize=(10,7))\n",
    "sns.distplot(rent_df['size_sqft'])"
   ]
  },
  {
   "cell_type": "code",
   "execution_count": 4,
   "metadata": {
    "id": "2oAXwCL9EnCi"
   },
   "outputs": [],
   "source": [
    "cat_cols = rent_df.select_dtypes(['object']).columns"
   ]
  },
  {
   "cell_type": "code",
   "execution_count": 5,
   "metadata": {
    "colab": {
     "base_uri": "https://localhost:8080/"
    },
    "id": "NQeph9GJFWzw",
    "outputId": "e3a5b35f-2094-472d-eedc-66abc347cf7b"
   },
   "outputs": [
    {
     "data": {
      "text/plain": [
       "Index(['neighborhood'], dtype='object')"
      ]
     },
     "execution_count": 5,
     "metadata": {},
     "output_type": "execute_result"
    }
   ],
   "source": [
    "cat_cols"
   ]
  },
  {
   "cell_type": "code",
   "execution_count": 6,
   "metadata": {
    "colab": {
     "base_uri": "https://localhost:8080/"
    },
    "id": "PeDKo2ctFX_7",
    "outputId": "d732aa82-b535-453a-fec1-455fd993372a"
   },
   "outputs": [
    {
     "name": "stdout",
     "output_type": "stream",
     "text": [
      "neighborhood\n"
     ]
    }
   ],
   "source": [
    "for col in cat_cols:\n",
    "  dummy = pd.get_dummies(rent_df[col], drop_first=True)\n",
    "  rent_df = pd.concat([rent_df, dummy], axis=1)\n",
    "  del rent_df[col]\n",
    "  print(col)\n",
    "\n",
    "del dummy"
   ]
  },
  {
   "cell_type": "code",
   "execution_count": 7,
   "metadata": {
    "colab": {
     "base_uri": "https://localhost:8080/",
     "height": 258
    },
    "id": "h9jdhW0TFrr1",
    "outputId": "9fa3d04f-2a28-439f-b269-c37e54e3dd77"
   },
   "outputs": [
    {
     "data": {
      "text/html": [
       "<div>\n",
       "<style scoped>\n",
       "    .dataframe tbody tr th:only-of-type {\n",
       "        vertical-align: middle;\n",
       "    }\n",
       "\n",
       "    .dataframe tbody tr th {\n",
       "        vertical-align: top;\n",
       "    }\n",
       "\n",
       "    .dataframe thead th {\n",
       "        text-align: right;\n",
       "    }\n",
       "</style>\n",
       "<table border=\"1\" class=\"dataframe\">\n",
       "  <thead>\n",
       "    <tr style=\"text-align: right;\">\n",
       "      <th></th>\n",
       "      <th>rent</th>\n",
       "      <th>bedrooms</th>\n",
       "      <th>bathrooms</th>\n",
       "      <th>size_sqft</th>\n",
       "      <th>min_to_subway</th>\n",
       "      <th>floor</th>\n",
       "      <th>building_age_yrs</th>\n",
       "      <th>no_fee</th>\n",
       "      <th>has_roofdeck</th>\n",
       "      <th>has_washer_dryer</th>\n",
       "      <th>...</th>\n",
       "      <th>Nolita</th>\n",
       "      <th>Roosevelt Island</th>\n",
       "      <th>Soho</th>\n",
       "      <th>Stuyvesant Town/PCV</th>\n",
       "      <th>Tribeca</th>\n",
       "      <th>Upper East Side</th>\n",
       "      <th>Upper West Side</th>\n",
       "      <th>Washington Heights</th>\n",
       "      <th>West Harlem</th>\n",
       "      <th>West Village</th>\n",
       "    </tr>\n",
       "  </thead>\n",
       "  <tbody>\n",
       "    <tr>\n",
       "      <th>0</th>\n",
       "      <td>2550</td>\n",
       "      <td>0.0</td>\n",
       "      <td>1</td>\n",
       "      <td>480</td>\n",
       "      <td>9</td>\n",
       "      <td>2.0</td>\n",
       "      <td>17</td>\n",
       "      <td>1</td>\n",
       "      <td>1</td>\n",
       "      <td>0</td>\n",
       "      <td>...</td>\n",
       "      <td>0</td>\n",
       "      <td>0</td>\n",
       "      <td>0</td>\n",
       "      <td>0</td>\n",
       "      <td>0</td>\n",
       "      <td>1</td>\n",
       "      <td>0</td>\n",
       "      <td>0</td>\n",
       "      <td>0</td>\n",
       "      <td>0</td>\n",
       "    </tr>\n",
       "    <tr>\n",
       "      <th>1</th>\n",
       "      <td>11500</td>\n",
       "      <td>2.0</td>\n",
       "      <td>2</td>\n",
       "      <td>2000</td>\n",
       "      <td>4</td>\n",
       "      <td>1.0</td>\n",
       "      <td>96</td>\n",
       "      <td>0</td>\n",
       "      <td>0</td>\n",
       "      <td>0</td>\n",
       "      <td>...</td>\n",
       "      <td>0</td>\n",
       "      <td>0</td>\n",
       "      <td>0</td>\n",
       "      <td>0</td>\n",
       "      <td>0</td>\n",
       "      <td>0</td>\n",
       "      <td>0</td>\n",
       "      <td>0</td>\n",
       "      <td>0</td>\n",
       "      <td>0</td>\n",
       "    </tr>\n",
       "    <tr>\n",
       "      <th>2</th>\n",
       "      <td>4500</td>\n",
       "      <td>1.0</td>\n",
       "      <td>1</td>\n",
       "      <td>916</td>\n",
       "      <td>2</td>\n",
       "      <td>51.0</td>\n",
       "      <td>29</td>\n",
       "      <td>0</td>\n",
       "      <td>1</td>\n",
       "      <td>0</td>\n",
       "      <td>...</td>\n",
       "      <td>0</td>\n",
       "      <td>0</td>\n",
       "      <td>0</td>\n",
       "      <td>0</td>\n",
       "      <td>0</td>\n",
       "      <td>0</td>\n",
       "      <td>0</td>\n",
       "      <td>0</td>\n",
       "      <td>0</td>\n",
       "      <td>0</td>\n",
       "    </tr>\n",
       "    <tr>\n",
       "      <th>3</th>\n",
       "      <td>4795</td>\n",
       "      <td>1.0</td>\n",
       "      <td>1</td>\n",
       "      <td>975</td>\n",
       "      <td>3</td>\n",
       "      <td>8.0</td>\n",
       "      <td>31</td>\n",
       "      <td>0</td>\n",
       "      <td>0</td>\n",
       "      <td>0</td>\n",
       "      <td>...</td>\n",
       "      <td>0</td>\n",
       "      <td>0</td>\n",
       "      <td>0</td>\n",
       "      <td>0</td>\n",
       "      <td>0</td>\n",
       "      <td>0</td>\n",
       "      <td>0</td>\n",
       "      <td>0</td>\n",
       "      <td>0</td>\n",
       "      <td>0</td>\n",
       "    </tr>\n",
       "    <tr>\n",
       "      <th>4</th>\n",
       "      <td>17500</td>\n",
       "      <td>2.0</td>\n",
       "      <td>2</td>\n",
       "      <td>4800</td>\n",
       "      <td>3</td>\n",
       "      <td>4.0</td>\n",
       "      <td>136</td>\n",
       "      <td>0</td>\n",
       "      <td>0</td>\n",
       "      <td>0</td>\n",
       "      <td>...</td>\n",
       "      <td>0</td>\n",
       "      <td>0</td>\n",
       "      <td>1</td>\n",
       "      <td>0</td>\n",
       "      <td>0</td>\n",
       "      <td>0</td>\n",
       "      <td>0</td>\n",
       "      <td>0</td>\n",
       "      <td>0</td>\n",
       "      <td>0</td>\n",
       "    </tr>\n",
       "  </tbody>\n",
       "</table>\n",
       "<p>5 rows × 46 columns</p>\n",
       "</div>"
      ],
      "text/plain": [
       "    rent  bedrooms  bathrooms  size_sqft  min_to_subway  floor  \\\n",
       "0   2550       0.0          1        480              9    2.0   \n",
       "1  11500       2.0          2       2000              4    1.0   \n",
       "2   4500       1.0          1        916              2   51.0   \n",
       "3   4795       1.0          1        975              3    8.0   \n",
       "4  17500       2.0          2       4800              3    4.0   \n",
       "\n",
       "   building_age_yrs  no_fee  has_roofdeck  has_washer_dryer  ...  Nolita  \\\n",
       "0                17       1             1                 0  ...       0   \n",
       "1                96       0             0                 0  ...       0   \n",
       "2                29       0             1                 0  ...       0   \n",
       "3                31       0             0                 0  ...       0   \n",
       "4               136       0             0                 0  ...       0   \n",
       "\n",
       "   Roosevelt Island  Soho  Stuyvesant Town/PCV  Tribeca  Upper East Side  \\\n",
       "0                 0     0                    0        0                1   \n",
       "1                 0     0                    0        0                0   \n",
       "2                 0     0                    0        0                0   \n",
       "3                 0     0                    0        0                0   \n",
       "4                 0     1                    0        0                0   \n",
       "\n",
       "   Upper West Side  Washington Heights  West Harlem  West Village  \n",
       "0                0                   0            0             0  \n",
       "1                0                   0            0             0  \n",
       "2                0                   0            0             0  \n",
       "3                0                   0            0             0  \n",
       "4                0                   0            0             0  \n",
       "\n",
       "[5 rows x 46 columns]"
      ]
     },
     "execution_count": 7,
     "metadata": {},
     "output_type": "execute_result"
    }
   ],
   "source": [
    "rent_df.head()"
   ]
  },
  {
   "cell_type": "code",
   "execution_count": 8,
   "metadata": {
    "id": "Asn_CJSJFtSw"
   },
   "outputs": [],
   "source": [
    "X = rent_df.drop('rent',axis=1)\n",
    "y = rent_df['rent']"
   ]
  },
  {
   "cell_type": "code",
   "execution_count": 9,
   "metadata": {
    "id": "1fT5ncMBGJWu"
   },
   "outputs": [],
   "source": [
    "from sklearn.model_selection import train_test_split"
   ]
  },
  {
   "cell_type": "code",
   "execution_count": 10,
   "metadata": {
    "id": "9ofeIW-YGW6f"
   },
   "outputs": [],
   "source": [
    "X_train, X_test, y_train, y_test = train_test_split(X,y,test_size=0.2,random_state=42)"
   ]
  },
  {
   "cell_type": "markdown",
   "metadata": {
    "id": "II3gY0RjOfGp"
   },
   "source": [
    "## **RF Model**"
   ]
  },
  {
   "cell_type": "code",
   "execution_count": 19,
   "metadata": {
    "id": "9aErhDZlHvWu"
   },
   "outputs": [],
   "source": [
    "from sklearn.model_selection import RandomizedSearchCV"
   ]
  },
  {
   "cell_type": "code",
   "execution_count": 20,
   "metadata": {
    "id": "Kia_j-BiGhzl"
   },
   "outputs": [],
   "source": [
    "params = {\n",
    "        \"n_estimators\":[100,200,500,1000],\n",
    "        \"max_depth\":[None,5,10,20]\n",
    "}"
   ]
  },
  {
   "cell_type": "code",
   "execution_count": 21,
   "metadata": {
    "id": "qM4JhPdcGdug"
   },
   "outputs": [],
   "source": [
    "from sklearn.ensemble import RandomForestRegressor"
   ]
  },
  {
   "cell_type": "code",
   "execution_count": 22,
   "metadata": {
    "id": "A0nrw5vmHsvU"
   },
   "outputs": [],
   "source": [
    "rf = RandomForestRegressor()"
   ]
  },
  {
   "cell_type": "code",
   "execution_count": 38,
   "metadata": {
    "id": "1i1IL271H1xe"
   },
   "outputs": [],
   "source": [
    "random_search = RandomizedSearchCV(rf, param_distributions=params, n_iter=10, scoring='neg_root_mean_squared_error',\n",
    "                                   cv=5, refit=True, return_train_score=True, n_jobs=4, random_state=42, verbose=1)"
   ]
  },
  {
   "cell_type": "code",
   "execution_count": 39,
   "metadata": {
    "colab": {
     "base_uri": "https://localhost:8080/"
    },
    "id": "M--ULLnRJGdk",
    "outputId": "a06b0834-a07d-4c8a-cb70-6c3d12c19c10"
   },
   "outputs": [
    {
     "name": "stdout",
     "output_type": "stream",
     "text": [
      "Fitting 5 folds for each of 10 candidates, totalling 50 fits\n"
     ]
    },
    {
     "name": "stderr",
     "output_type": "stream",
     "text": [
      "[Parallel(n_jobs=4)]: Using backend LokyBackend with 4 concurrent workers.\n",
      "[Parallel(n_jobs=4)]: Done  42 tasks      | elapsed:  1.6min\n",
      "[Parallel(n_jobs=4)]: Done  50 out of  50 | elapsed:  2.4min finished\n"
     ]
    },
    {
     "data": {
      "text/plain": [
       "RandomizedSearchCV(cv=5, error_score=nan,\n",
       "                   estimator=RandomForestRegressor(bootstrap=True,\n",
       "                                                   ccp_alpha=0.0,\n",
       "                                                   criterion='mse',\n",
       "                                                   max_depth=None,\n",
       "                                                   max_features='auto',\n",
       "                                                   max_leaf_nodes=None,\n",
       "                                                   max_samples=None,\n",
       "                                                   min_impurity_decrease=0.0,\n",
       "                                                   min_impurity_split=None,\n",
       "                                                   min_samples_leaf=1,\n",
       "                                                   min_samples_split=2,\n",
       "                                                   min_weight_fraction_leaf=0.0,\n",
       "                                                   n_estimators=100,\n",
       "                                                   n_jobs=None, oob_score=False,\n",
       "                                                   random_state=None, verbose=0,\n",
       "                                                   warm_start=False),\n",
       "                   iid='deprecated', n_iter=10, n_jobs=4,\n",
       "                   param_distributions={'max_depth': [None, 5, 10, 20],\n",
       "                                        'n_estimators': [100, 200, 500, 1000]},\n",
       "                   pre_dispatch='2*n_jobs', random_state=42, refit=True,\n",
       "                   return_train_score=True,\n",
       "                   scoring='neg_root_mean_squared_error', verbose=1)"
      ]
     },
     "execution_count": 39,
     "metadata": {
      "tags": []
     },
     "output_type": "execute_result"
    }
   ],
   "source": [
    "random_search.fit(X_train, y_train)"
   ]
  },
  {
   "cell_type": "code",
   "execution_count": 27,
   "metadata": {
    "id": "4Rr1UsaoJI_5"
   },
   "outputs": [],
   "source": [
    "preds = random_search.predict(X_test)"
   ]
  },
  {
   "cell_type": "code",
   "execution_count": 31,
   "metadata": {
    "id": "7mubOiZKJ6cP"
   },
   "outputs": [],
   "source": [
    "from sklearn.metrics import mean_squared_error"
   ]
  },
  {
   "cell_type": "code",
   "execution_count": 32,
   "metadata": {
    "colab": {
     "base_uri": "https://localhost:8080/"
    },
    "id": "1OL9b1S3J_IY",
    "outputId": "747cda0d-6af8-4915-95e1-f096784ec849"
   },
   "outputs": [
    {
     "data": {
      "text/plain": [
       "1322.4787225877171"
      ]
     },
     "execution_count": 32,
     "metadata": {
      "tags": []
     },
     "output_type": "execute_result"
    }
   ],
   "source": [
    "np.sqrt(mean_squared_error(y_test, preds))"
   ]
  },
  {
   "cell_type": "markdown",
   "metadata": {
    "id": "4joumuB9OXwZ"
   },
   "source": [
    "## **XGB Model**"
   ]
  },
  {
   "cell_type": "code",
   "execution_count": 40,
   "metadata": {
    "id": "XSMYQdI7Ly09"
   },
   "outputs": [],
   "source": [
    "from xgboost.sklearn import XGBRegressor"
   ]
  },
  {
   "cell_type": "code",
   "execution_count": 77,
   "metadata": {
    "id": "oTSwVdhYMilw"
   },
   "outputs": [],
   "source": [
    "xgb = XGBRegressor(learning_rate=0.1,n_estimators=1000,objective='reg:linear', random_state=42)"
   ]
  },
  {
   "cell_type": "code",
   "execution_count": 78,
   "metadata": {
    "colab": {
     "base_uri": "https://localhost:8080/"
    },
    "id": "Y-wDB0WZMpxL",
    "outputId": "149d95c2-0564-442d-a466-b55845c308a6"
   },
   "outputs": [
    {
     "name": "stdout",
     "output_type": "stream",
     "text": [
      "[06:57:33] WARNING: /workspace/src/objective/regression_obj.cu:152: reg:linear is now deprecated in favor of reg:squarederror.\n"
     ]
    },
    {
     "data": {
      "text/plain": [
       "XGBRegressor(base_score=0.5, booster='gbtree', colsample_bylevel=1,\n",
       "             colsample_bynode=1, colsample_bytree=1, gamma=0,\n",
       "             importance_type='gain', learning_rate=0.1, max_delta_step=0,\n",
       "             max_depth=3, min_child_weight=1, missing=None, n_estimators=1000,\n",
       "             n_jobs=1, nthread=None, objective='reg:linear', random_state=42,\n",
       "             reg_alpha=0, reg_lambda=1, scale_pos_weight=1, seed=None,\n",
       "             silent=None, subsample=1, verbosity=1)"
      ]
     },
     "execution_count": 78,
     "metadata": {
      "tags": []
     },
     "output_type": "execute_result"
    }
   ],
   "source": [
    "xgb.fit(X_train, y_train)"
   ]
  },
  {
   "cell_type": "code",
   "execution_count": 79,
   "metadata": {
    "id": "Vzp6vO_WMsZa"
   },
   "outputs": [],
   "source": [
    "pred = xgb.predict(X_test)"
   ]
  },
  {
   "cell_type": "code",
   "execution_count": 80,
   "metadata": {
    "colab": {
     "base_uri": "https://localhost:8080/"
    },
    "id": "yhGtJywtMwi2",
    "outputId": "820a4365-e5c4-497f-fbc4-4025e1f1dfad"
   },
   "outputs": [
    {
     "data": {
      "text/plain": [
       "1225.796785708613"
      ]
     },
     "execution_count": 80,
     "metadata": {
      "tags": []
     },
     "output_type": "execute_result"
    }
   ],
   "source": [
    "np.sqrt(mean_squared_error(y_test, pred))"
   ]
  },
  {
   "cell_type": "code",
   "execution_count": 81,
   "metadata": {
    "colab": {
     "base_uri": "https://localhost:8080/"
    },
    "id": "NFXWH0T2M0fu",
    "outputId": "317accf3-2744-434a-d671-0f5d0698cb9f"
   },
   "outputs": [
    {
     "data": {
      "text/plain": [
       "0.840696662355248"
      ]
     },
     "execution_count": 81,
     "metadata": {
      "tags": []
     },
     "output_type": "execute_result"
    }
   ],
   "source": [
    "xgb.score(X_test, y_test)"
   ]
  },
  {
   "cell_type": "markdown",
   "metadata": {
    "id": "U55InaIaOJwz"
   },
   "source": [
    "***SAVING MODEL***"
   ]
  },
  {
   "cell_type": "code",
   "execution_count": 82,
   "metadata": {
    "id": "DRYQJRFjNxvm"
   },
   "outputs": [],
   "source": [
    "xgb.save_model('Rent_model.bin')"
   ]
  },
  {
   "cell_type": "code",
   "execution_count": null,
   "metadata": {
    "id": "9mClcCQPOSH2"
   },
   "outputs": [],
   "source": [
    "#Testing with new user data"
   ]
  },
  {
   "cell_type": "code",
   "execution_count": null,
   "metadata": {
    "id": "A6tEjZslO3RW"
   },
   "outputs": [],
   "source": [
    "sonny_apartment = [[1, 1, 620, 16, 1, 98, 1, 0, 1, 0, 0, 1, 1, 0]] #Lives in Upper East Side Neighborhood"
   ]
  },
  {
   "cell_type": "code",
   "execution_count": 12,
   "metadata": {},
   "outputs": [],
   "source": [
    "from xgboost.sklearn import XGBRegressor"
   ]
  },
  {
   "cell_type": "code",
   "execution_count": 14,
   "metadata": {},
   "outputs": [
    {
     "name": "stdout",
     "output_type": "stream",
     "text": [
      "[14:44:22] WARNING: C:/Users/Administrator/workspace/xgboost-win64_release_1.4.0/src/objective/regression_obj.cu:171: reg:linear is now deprecated in favor of reg:squarederror.\n",
      "[14:44:22] WARNING: C:/Users/Administrator/workspace/xgboost-win64_release_1.4.0/src/learner.cc:851: Loading model from XGBoost < 1.0.0, consider saving it again for improved compatibility\n"
     ]
    }
   ],
   "source": [
    "model = XGBRegressor()\n",
    "model.load_model(\"Rent_model.bin\")"
   ]
  },
  {
   "cell_type": "code",
   "execution_count": 15,
   "metadata": {},
   "outputs": [],
   "source": [
    "pred = model.predict(X_test)"
   ]
  },
  {
   "cell_type": "code",
   "execution_count": 16,
   "metadata": {},
   "outputs": [
    {
     "data": {
      "text/plain": [
       "array([ 4657.1455,  4199.5425,  3998.785 ,  4470.8374,  3595.1223,\n",
       "        3080.2834,  6911.176 ,  5571.204 ,  3594.4722,  7041.6216,\n",
       "        3590.8796,  5067.4785,  3117.2778,  3656.5164,  4844.873 ,\n",
       "        5277.319 ,  4952.042 ,  2567.0042,  4336.7803,  3293.8755,\n",
       "        3459.414 , 11354.325 ,  5370.863 ,  4700.1523,  2763.3108,\n",
       "        4658.0864,  7098.8687,  4804.369 ,  9803.23  , 13040.23  ,\n",
       "        2729.377 ,  4470.6416,  4424.9233,  7639.37  , 12848.009 ,\n",
       "        4435.475 ,  2605.8892,  3853.492 ,  2851.3792, 10191.505 ,\n",
       "        3378.8203, 15300.822 ,  6881.814 ,  1955.6415,  3618.116 ,\n",
       "        4931.2827,  6019.3374,  4782.529 ,  4833.6196,  4515.061 ,\n",
       "       17460.023 , 10165.586 ,  2642.6646, 13440.091 ,  5381.9263,\n",
       "        5045.241 ,  3419.0044,  4145.2783,  4768.436 ,  3233.7905,\n",
       "        4616.279 ,  4087.6482,  3224.6675,  5392.1313,  8391.235 ,\n",
       "        2184.7192,  8628.968 ,  5347.3525,  3225.3948,  4370.4097,\n",
       "        3703.089 ,  3799.0938,  9842.364 ,  4900.1357,  4700.3706,\n",
       "       15728.592 , 11951.858 , 11090.654 ,  4423.591 ,  4108.8555,\n",
       "        5789.668 , 12224.076 ,  2621.798 ,  3167.2754,  3795.7014,\n",
       "        4395.1836,  4884.6836,  3601.7727,  3869.2354,  5345.339 ,\n",
       "        2491.0374,  4088.3044,  3050.528 ,  2207.387 ,  2593.1184,\n",
       "        3445.5332,  5806.3784,  3564.5376,  3883.9905,  3654.7817,\n",
       "        2872.0427,  2565.8074,  4523.3184,  4971.681 ,  3076.2407,\n",
       "        5373.7285,  5193.3247,  9642.711 ,  4167.3076,  3031.165 ,\n",
       "        5078.699 ,  3964.189 ,  2810.2512,  3062.4104, 10054.825 ,\n",
       "        4065.2632,  3254.7134,  6647.986 ,  3882.129 ,  4515.5347,\n",
       "        3673.0483,  3394.4521,  2521.0886,  3172.767 ,  5668.207 ,\n",
       "        3188.528 ,  3283.7002, 12264.828 ,  3105.4172,  3986.633 ,\n",
       "        3403.234 ,  3075.5688,  2894.6355,  9286.528 ,  2649.9233,\n",
       "        3103.411 ,  3932.08  ,  2775.1357,  8425.936 ,  5366.365 ,\n",
       "        2127.2998, 10497.959 ,  3703.2114,  2442.411 ,  2484.0854,\n",
       "        3135.0986,  6555.402 ,  4310.1084,  3978.3066, 14729.436 ,\n",
       "        3384.5146,  4523.7007,  3196.8208,  4482.485 ,  4303.589 ,\n",
       "        2422.607 ,  4089.693 ,  3738.7515, 10868.852 ,  4413.4697,\n",
       "        5939.442 , 11531.755 ,  4750.169 ,  5424.367 ,  3056.0198,\n",
       "       12294.405 ,  5660.0474,  4243.3916,  3099.5933, 10638.925 ,\n",
       "        2562.5518,  3845.7053,  4947.9775,  2961.3616,  5958.5825,\n",
       "        3318.2498,  3762.633 , 11458.688 ,  4062.9993,  2169.8801,\n",
       "        2836.8945,  4300.079 ,  2023.692 ,  5054.16  ,  3925.6028,\n",
       "        2715.9177,  7190.8564,  5332.8203, 17666.713 ,  6430.835 ,\n",
       "        4891.694 ,  3481.251 ,  2786.8938,  2366.1174,  5488.9697,\n",
       "        7551.959 ,  3451.5625,  9532.721 ,  3889.021 ,  2015.3098,\n",
       "        5068.682 ,  4106.0024,  6315.8213,  5535.711 ,  6692.352 ,\n",
       "        3232.9797,  7599.323 ,  6340.7744,  4320.5425,  2810.9468,\n",
       "        5333.128 ,  3329.7866,  2186.5737,  4187.12  ,  3977.445 ,\n",
       "        4533.673 ,  6022.2856,  3456.4119,  3727.3696,  2977.815 ,\n",
       "        4519.309 ,  2375.2415, 11894.597 ,  3891.1694,  8839.585 ,\n",
       "        2564.5488,  2088.7107,  3069.596 ,  4289.22  , 16112.691 ,\n",
       "        3532.9617,  2828.2563,  5558.2075,  6462.458 ,  6249.6724,\n",
       "        4931.876 ,  7051.5396,  4444.918 ,  8853.138 ,  4017.1716,\n",
       "        4383.4116,  1653.1891,  6522.4556,  4762.7354, 10671.559 ,\n",
       "        3379.1152,  4497.1465,  6127.6646,  3778.3982,  4889.875 ,\n",
       "       11952.332 ,  5180.484 ,  2023.8998,  6767.819 ,  5371.385 ,\n",
       "        3757.9915,  3920.2769,  1894.7751,  6166.6816,  4571.309 ,\n",
       "        2988.97  , 14865.382 ,  1919.1832, 11387.169 ,  2989.5999,\n",
       "        3143.224 , 10749.289 ,  4589.674 ,  3968.5981,  8124.8086,\n",
       "        4661.4893, 10236.236 , 10819.898 ,  2645.351 ,  2457.573 ,\n",
       "        1252.6384,  3700.2605,  2911.323 ,  3530.9438,  2237.4832,\n",
       "        4024.56  ,  3919.3784, 15466.707 ,  4998.1387,  2090.2007,\n",
       "        4098.9507,  5651.8403,  8615.087 ,  2614.1287,  3068.998 ,\n",
       "       13172.824 ,  4065.207 ,  3357.0725,  4894.4814,  3959.4001,\n",
       "        3137.7168,  4756.4673,  4461.793 ,  2994.733 ,  4884.521 ,\n",
       "        6264.218 ,  6928.095 , 11257.446 ,  2943.3196,  2841.2302,\n",
       "        3179.756 ,  5595.486 ,  2973.634 ,  3892.6057,  2111.1128,\n",
       "        6227.5146,  2997.4705,  2742.073 , 16424.945 , 15681.17  ,\n",
       "        4924.931 ,  3766.1133,  2615.6318,  3027.3625,  2906.0742,\n",
       "        3590.1033,  1607.2417,  3720.0837,  4550.591 ,  7075.1797,\n",
       "        2417.817 ,  8160.7627, 15533.401 ,  7318.6494,  3739.5037,\n",
       "        5001.8984,  3984.1787,  3873.1013,  2653.4067,  2635.1274,\n",
       "        8031.1924,  4182.2793,  6022.059 , 10560.2705,  2649.2732,\n",
       "        4827.512 ,  6889.4863,  3598.0862,  3475.2024,  6883.708 ,\n",
       "        6272.957 ,  1992.6742,  3595.0332,  2911.451 ,  7879.8193,\n",
       "        3813.2793,  2941.8108,  3718.2578,  3802.6138,  2056.2368,\n",
       "        6813.8438,  2954.5366,  2650.0117,  2768.2244, 17470.2   ,\n",
       "        4643.5   ,  5884.15  ,  3451.0686,  3160.1592,  7797.899 ,\n",
       "        2831.971 ,  6852.757 ,  2822.7498,  4792.6294,  3954.735 ,\n",
       "        5923.724 ,  4083.3774,  5151.637 ,  7188.444 ,  2355.6228,\n",
       "        4919.9775,  3220.9705,  7122.9004,  4497.015 ,  5845.7046,\n",
       "        7136.2144,  2030.3645,  4687.9443,  4638.6094,  3468.3118,\n",
       "       16274.58  ,  6728.791 ,  4210.1484,  6842.9624,  8953.154 ,\n",
       "        4126.0957,  3888.7744,  4619.1885,  7897.351 ,  3462.7126,\n",
       "        5482.4478,  2257.7622,  4248.535 ,  3305.5076,  8029.649 ,\n",
       "        4705.985 ,  2779.6323,  6402.381 ,  4047.9143,  3528.3088,\n",
       "        6233.245 ,  6053.824 , 10457.954 ,  5997.0938,  5544.7476,\n",
       "        4155.1016,  4346.0674,  2726.4836,  4012.402 ,  5359.5835,\n",
       "        5021.465 , 11169.353 ,  2650.6157,  6041.5864,  5916.329 ,\n",
       "        6323.9355,  4457.247 , 10257.061 ,  9687.925 ,  3131.6807,\n",
       "        4212.4624,  3521.8208,  4128.2354, 12401.91  ,  3198.9285,\n",
       "        2307.673 ,  3954.597 ,  5727.518 ,  4016.068 ,  5415.701 ,\n",
       "        3106.7512,  4884.871 ,  3265.333 ,  6914.344 ,  4679.0024,\n",
       "        9671.607 ,  6144.9844,  7973.938 ,  5123.302 ,  4102.684 ,\n",
       "        4129.781 ,  5045.6846,  3750.3777,  4653.6997,  5997.9507,\n",
       "        3698.641 ,  8193.456 ,  2523.012 , 12517.526 ,  2356.1025,\n",
       "        3439.426 ,  1849.9022,  3565.8477,  3156.4841,  3058.2412,\n",
       "        3948.0972,  2451.7192,  2523.999 ,  4171.2866,  6056.021 ,\n",
       "        3919.9304,  7245.976 ,  6517.275 ,  9141.543 ,  4486.6465,\n",
       "        4005.8013, 11453.92  ,  2107.34  ,  3355.6133,  6805.814 ,\n",
       "        3510.2158, 13004.615 ,  5406.584 ,  6917.556 , 13456.81  ,\n",
       "        2945.0479,  9125.786 ,  3089.199 ,  5516.007 ,  5017.491 ,\n",
       "        9634.997 ,  4538.178 ,  2313.605 ,  2836.5327,  2975.133 ,\n",
       "        3509.3528,  3844.7073,  4841.48  ,  8455.677 ,  5177.0454,\n",
       "        2212.1836,  3384.4773,  2934.8398,  7113.334 ,  1929.682 ,\n",
       "        2678.6248,  2749.056 ,  4585.024 ,  2466.3955,  3351.251 ,\n",
       "        9663.055 ,  8152.87  ,  3607.6367, 14143.493 ,  5272.3613,\n",
       "        4166.1006, 13313.739 ,  2620.641 ,  3928.741 ,  3157.3755,\n",
       "        3307.856 ,  3560.9773,  6494.0366,  2930.9387,  3014.0464,\n",
       "        9821.8545,  2354.0625,  2767.4214,  4787.8115,  8172.3643,\n",
       "       16228.027 ,  6137.905 ,  4690.4507,  3739.532 ,  8047.6196,\n",
       "        1307.2391,  3343.5457,  2929.8896,  3700.127 ,  4015.888 ,\n",
       "        4530.5234,  4645.736 ,  2569.1462,  5405.7046,  4966.5376,\n",
       "        3049.6165,  2265.4683,  2791.1145,  4637.603 ,  4185.9224,\n",
       "        3409.8655,  5568.79  ,  4757.142 ,  2629.7915,  2160.9355,\n",
       "        3617.6543,  2121.116 ,  3357.0298,  3898.1433,  3274.9768,\n",
       "        6793.932 ,  4086.6804,  3095.7732,  5069.6733,  2593.2898,\n",
       "        3606.263 ,  5085.608 ,  3146.0564,  3021.7974,  3769.3489,\n",
       "        5300.6113,  4031.0837,  4603.2153,  4072.037 ,  2912.9048,\n",
       "        4800.8945,  4819.1055,  3740.151 ,  5994.3223,  3712.1475,\n",
       "        4185.4907,  7379.609 ,  4422.1035, 13889.139 ,  2844.5227,\n",
       "        3870.9526,  4660.4043, 12770.194 ,  3521.716 ,  3418.963 ,\n",
       "        3620.6272,  3603.2104,  7867.9673,  3106.5017,  4112.731 ,\n",
       "        6136.144 ,  4910.3076,  2651.0269,  4912.8735, 10306.959 ,\n",
       "        6346.562 , 12330.998 ,  4409.562 ,  3102.4697,  3343.4775,\n",
       "        4793.0664,  9852.6   ,  5779.939 ,  4160.084 ,  2917.8408,\n",
       "       14069.958 ,  3090.7654,  2823.955 ,  7500.213 ,  9549.976 ,\n",
       "        4993.6177,  5316.6304,  2386.1414,  3693.1423,  3661.4744,\n",
       "        8540.452 ,  3429.3665,  5926.7944,  4532.972 ,  6148.563 ,\n",
       "       10040.254 ,  3723.1438,  5111.347 ,  4492.6646,  5573.5923,\n",
       "        3033.8281,   863.7568,  4901.8667,  2142.862 ,  3042.75  ,\n",
       "        3128.3975,  3590.0024,  4249.6826,  4669.071 , 11926.725 ,\n",
       "        2869.7197, 10998.634 ,  2376.9731,  3369.6667,  6519.69  ,\n",
       "        3046.2185,  7122.1895, 12546.9795,  3672.9421,  6243.6494,\n",
       "        3575.9548,  6448.378 ,  2311.0327,  5657.6763,  3049.4126,\n",
       "        3220.2178,  3346.0442,  3298.6802,  2929.627 ,  5059.019 ,\n",
       "        3784.7273,  4575.5737,  5259.3086,  3171.8535,  4419.066 ,\n",
       "        4059.0798,  5981.5703,  4074.107 ,  5972.8496,  2006.5404,\n",
       "        6461.0723,  6318.9077,  6058.794 ,  7352.128 ,  5621.1074,\n",
       "       12326.559 ,  3622.4248,  9898.496 ,  3569.5166,  5364.852 ,\n",
       "        4411.6406,  3175.8555,  4053.322 ,  4705.871 ,  3651.1755,\n",
       "        7830.1055,  4320.5425,  4204.0835,  2721.859 ,  3561.028 ,\n",
       "        4011.224 , 12701.493 ,  2926.4106,  2790.082 ,  6037.717 ,\n",
       "       13054.894 ,  3437.49  ,  3450.5413,  2599.5254,  3792.6458,\n",
       "        2374.0989,  3211.1528,  7927.984 ,  5752.4907,  3685.1223,\n",
       "        5706.7393,  8835.181 ,  6421.969 ,  5001.259 ,  1529.4742,\n",
       "        3287.1301,  3138.7415,  3096.5845], dtype=float32)"
      ]
     },
     "execution_count": 16,
     "metadata": {},
     "output_type": "execute_result"
    }
   ],
   "source": [
    "pred"
   ]
  },
  {
   "cell_type": "code",
   "execution_count": null,
   "metadata": {},
   "outputs": [],
   "source": [
    "X_"
   ]
  }
 ],
 "metadata": {
  "accelerator": "GPU",
  "colab": {
   "name": "Predicting Rent.ipynb",
   "provenance": []
  },
  "kernelspec": {
   "display_name": "Python 3",
   "language": "python",
   "name": "python3"
  },
  "language_info": {
   "codemirror_mode": {
    "name": "ipython",
    "version": 3
   },
   "file_extension": ".py",
   "mimetype": "text/x-python",
   "name": "python",
   "nbconvert_exporter": "python",
   "pygments_lexer": "ipython3",
   "version": "3.8.8"
  }
 },
 "nbformat": 4,
 "nbformat_minor": 1
}
